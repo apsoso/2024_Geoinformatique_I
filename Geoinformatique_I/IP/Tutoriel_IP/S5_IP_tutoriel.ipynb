{
  "cells": [
    {
      "cell_type": "markdown",
      "metadata": {
        "id": "view-in-github",
        "colab_type": "text"
      },
      "source": [
        "<a href=\"https://colab.research.google.com/github/apsoso/2024_Geoinformatique_I/blob/main/Geoinformatique_I/IP/Tutoriel_IP/S5_IP_tutoriel.ipynb\" target=\"_parent\"><img src=\"https://colab.research.google.com/assets/colab-badge.svg\" alt=\"Open In Colab\"/></a>"
      ]
    },
    {
      "cell_type": "markdown",
      "metadata": {
        "id": "kdUAd5CBcu_t"
      },
      "source": [
        "# Tutoriel 5: Bonnes pratiques de programmation\n",
        "\n",
        "Dans cette section, nous aborderons les points suivants:\n",
        "\n",
        "1. Classe\n",
        "2. Contrôle des versions\n",
        "3. Assertion\n",
        "4. Unit testing\n",
        "5. Exception\n",
        "6. Débogage"
      ]
    },
    {
      "cell_type": "markdown",
      "metadata": {
        "id": "QVyTX0yScu_t"
      },
      "source": [
        "## Classes"
      ]
    },
    {
      "cell_type": "markdown",
      "metadata": {
        "id": "SmSLYYWucu_u"
      },
      "source": [
        "Jusqu'à présent, nous avons travaillé avec de nombreux types d'objets python :\n",
        "chaînes de caractères, listes, dictionnaires, etc.\n",
        "Ces objets ont différents attributs et répondent de différentes manières aux fonctions intégrées (`len`, etc.).\n",
        "\n",
        "Comment pouvons-nous créer nos propres objets personnalisés ? Réponse : en définissant des classes."
      ]
    },
    {
      "cell_type": "markdown",
      "metadata": {
        "id": "loZOkQrucu_u"
      },
      "source": [
        "### Une classe pour représenter un ouragan\n",
        "Créons notre première classe ci-dessous,"
      ]
    },
    {
      "cell_type": "code",
      "execution_count": 2,
      "metadata": {
        "id": "Fquq4fHrcu_u"
      },
      "outputs": [],
      "source": [
        "class Hurricane:\n",
        "\n",
        "    def __init__(self, name):\n",
        "        self.name = name"
      ]
    },
    {
      "cell_type": "markdown",
      "metadata": {
        "id": "ByNgM7O3cu_v"
      },
      "source": [
        "Et maintenant, créons une *instance* de cette classe, `h` :"
      ]
    },
    {
      "cell_type": "code",
      "execution_count": 4,
      "metadata": {
        "id": "7a7b5giScu_w",
        "outputId": "ce615b2c-5b4b-4e62-c1f1-607415026801",
        "colab": {
          "base_uri": "https://localhost:8080/"
        }
      },
      "outputs": [
        {
          "output_type": "stream",
          "name": "stdout",
          "text": [
            "<__main__.Hurricane object at 0x7d64089344c0> florence\n"
          ]
        }
      ],
      "source": [
        "h = Hurricane('florence')\n",
        "print(h,h.name)"
      ]
    },
    {
      "cell_type": "markdown",
      "metadata": {
        "id": "uMa8goACcu_w"
      },
      "source": [
        "Ajoutons-en d'autres, ainsi qu'une validation des entrées :"
      ]
    },
    {
      "cell_type": "code",
      "execution_count": 6,
      "metadata": {
        "id": "VMtdcbG1cu_w"
      },
      "outputs": [],
      "source": [
        "class Hurricane:\n",
        "\n",
        "    def __init__(self, name, category, lon):\n",
        "        self.name = name.upper()\n",
        "        self.category = int(category)\n",
        "\n",
        "        if lon > 180 or lon < -180:\n",
        "            raise ValueError(f'Invalid lon {lon}')\n",
        "        self.lon = lon"
      ]
    },
    {
      "cell_type": "code",
      "execution_count": 7,
      "metadata": {
        "id": "xngBJTq7cu_x",
        "outputId": "5a3a06e1-0264-4664-eda4-363772b40b4f",
        "colab": {
          "base_uri": "https://localhost:8080/",
          "height": 333
        }
      },
      "outputs": [
        {
          "output_type": "stream",
          "name": "stdout",
          "text": [
            "<__main__.Hurricane object at 0x7d64089361d0> FLORENCE\n"
          ]
        },
        {
          "output_type": "error",
          "ename": "ValueError",
          "evalue": "Invalid lon 300",
          "traceback": [
            "\u001b[0;31m---------------------------------------------------------------------------\u001b[0m",
            "\u001b[0;31mValueError\u001b[0m                                Traceback (most recent call last)",
            "\u001b[0;32m<ipython-input-7-9dd4a6fd25fe>\u001b[0m in \u001b[0;36m<cell line: 3>\u001b[0;34m()\u001b[0m\n\u001b[1;32m      1\u001b[0m \u001b[0mh\u001b[0m \u001b[0;34m=\u001b[0m \u001b[0mHurricane\u001b[0m\u001b[0;34m(\u001b[0m\u001b[0;34m'florence'\u001b[0m\u001b[0;34m,\u001b[0m \u001b[0;36m4\u001b[0m\u001b[0;34m,\u001b[0m \u001b[0;34m-\u001b[0m\u001b[0;36m46\u001b[0m\u001b[0;34m)\u001b[0m\u001b[0;34m\u001b[0m\u001b[0;34m\u001b[0m\u001b[0m\n\u001b[1;32m      2\u001b[0m \u001b[0mprint\u001b[0m\u001b[0;34m(\u001b[0m\u001b[0mh\u001b[0m\u001b[0;34m,\u001b[0m\u001b[0mh\u001b[0m\u001b[0;34m.\u001b[0m\u001b[0mname\u001b[0m\u001b[0;34m)\u001b[0m\u001b[0;34m\u001b[0m\u001b[0;34m\u001b[0m\u001b[0m\n\u001b[0;32m----> 3\u001b[0;31m \u001b[0mh\u001b[0m \u001b[0;34m=\u001b[0m \u001b[0mHurricane\u001b[0m\u001b[0;34m(\u001b[0m\u001b[0;34m'Ida'\u001b[0m\u001b[0;34m,\u001b[0m \u001b[0;36m5\u001b[0m\u001b[0;34m,\u001b[0m \u001b[0;36m300\u001b[0m\u001b[0;34m)\u001b[0m\u001b[0;34m\u001b[0m\u001b[0;34m\u001b[0m\u001b[0m\n\u001b[0m",
            "\u001b[0;32m<ipython-input-6-a86753a6b69c>\u001b[0m in \u001b[0;36m__init__\u001b[0;34m(self, name, category, lon)\u001b[0m\n\u001b[1;32m      6\u001b[0m \u001b[0;34m\u001b[0m\u001b[0m\n\u001b[1;32m      7\u001b[0m         \u001b[0;32mif\u001b[0m \u001b[0mlon\u001b[0m \u001b[0;34m>\u001b[0m \u001b[0;36m180\u001b[0m \u001b[0;32mor\u001b[0m \u001b[0mlon\u001b[0m \u001b[0;34m<\u001b[0m \u001b[0;34m-\u001b[0m\u001b[0;36m180\u001b[0m\u001b[0;34m:\u001b[0m\u001b[0;34m\u001b[0m\u001b[0;34m\u001b[0m\u001b[0m\n\u001b[0;32m----> 8\u001b[0;31m             \u001b[0;32mraise\u001b[0m \u001b[0mValueError\u001b[0m\u001b[0;34m(\u001b[0m\u001b[0;34mf'Invalid lon {lon}'\u001b[0m\u001b[0;34m)\u001b[0m\u001b[0;34m\u001b[0m\u001b[0;34m\u001b[0m\u001b[0m\n\u001b[0m\u001b[1;32m      9\u001b[0m         \u001b[0mself\u001b[0m\u001b[0;34m.\u001b[0m\u001b[0mlon\u001b[0m \u001b[0;34m=\u001b[0m \u001b[0mlon\u001b[0m\u001b[0;34m\u001b[0m\u001b[0;34m\u001b[0m\u001b[0m\n",
            "\u001b[0;31mValueError\u001b[0m: Invalid lon 300"
          ]
        }
      ],
      "source": [
        "h = Hurricane('florence', 4, -46)\n",
        "print(h,h.name)\n",
        "h = Hurricane('Ida', 5, 300)"
      ]
    },
    {
      "cell_type": "code",
      "execution_count": 9,
      "metadata": {
        "id": "yrBcg9Llcu_x"
      },
      "outputs": [],
      "source": [
        "# Ajoutons maintenant une méthode personnalisée :class Hurricane:\n",
        "class Hurricane:\n",
        "\n",
        "    def __init__(self, name, category, lon):\n",
        "        self.name = name.upper()\n",
        "        self.category = int(category)\n",
        "\n",
        "        if lon > 180 or lon < -180:\n",
        "            raise ValueError(f'Invalid lon {lon}')\n",
        "        self.lon = lon\n",
        "\n",
        "    def is_dangerous(self):\n",
        "        return self.category > 1"
      ]
    },
    {
      "cell_type": "code",
      "execution_count": 10,
      "metadata": {
        "id": "7gD5P0Uicu_x",
        "outputId": "cde97c49-ee05-45b5-b40e-876470fe8fb2",
        "colab": {
          "base_uri": "https://localhost:8080/"
        }
      },
      "outputs": [
        {
          "output_type": "execute_result",
          "data": {
            "text/plain": [
              "True"
            ]
          },
          "metadata": {},
          "execution_count": 10
        }
      ],
      "source": [
        "f = Hurricane('florence', 4, -46)\n",
        "f.is_dangerous()"
      ]
    },
    {
      "cell_type": "markdown",
      "metadata": {
        "id": "AUgTFzIPcu_y"
      },
      "source": [
        "### Méthodes magiques / Dunder\n",
        "Nous pouvons implémenter des méthodes spéciales qui commencent par des doubles underscores (c'est-à-dire des méthodes \"dunder\"), qui nous permettent de personnaliser le comportement de nos classes. ([En savoir plus ici](https://www.python-course.eu/python3_magic_methods.php)). Nous en avons déjà appris une : `__init__`. Implémentons la méthode `__repr__` pour que notre classe affiche quelque chose de joli."
      ]
    },
    {
      "cell_type": "code",
      "execution_count": 11,
      "metadata": {
        "id": "Afu0HNcdcu_y"
      },
      "outputs": [],
      "source": [
        "class Hurricane:\n",
        "\n",
        "    def __init__(self, name, category, lon):\n",
        "        self.name = name.upper()\n",
        "        self.category = int(category)\n",
        "\n",
        "        if lon > 180 or lon < -180:\n",
        "            raise ValueError(f'Invalid lon {lon}')\n",
        "        self.lon = lon\n",
        "\n",
        "    def __repr__(self):\n",
        "        return f\"<Hurricane {self.name} (cat {self.category})>\"\n",
        "\n",
        "    def is_dangerous(self):\n",
        "        return self.category > 1"
      ]
    },
    {
      "cell_type": "code",
      "execution_count": 13,
      "metadata": {
        "id": "TKodWGMPcu_y",
        "outputId": "cb562233-e0e0-4417-e076-3aadc7ff4537",
        "colab": {
          "base_uri": "https://localhost:8080/"
        }
      },
      "outputs": [
        {
          "output_type": "execute_result",
          "data": {
            "text/plain": [
              "<Hurricane FLORENCE (cat 4)>"
            ]
          },
          "metadata": {},
          "execution_count": 13
        }
      ],
      "source": [
        "f = Hurricane('florence', 4, -46)\n",
        "f"
      ]
    },
    {
      "cell_type": "markdown",
      "metadata": {
        "id": "UiCTSWaRcu_y"
      },
      "source": [
        "## Contrôle des versions"
      ]
    },
    {
      "cell_type": "markdown",
      "metadata": {
        "id": "8Eb_lVkufj_p"
      },
      "source": [
        "Le contrôle des versions est une pratique essentielle dans le développement logiciel. Git est un systêm de contrôle de version distribué qui permet de suivre les modifications apportées à votre code."
      ]
    },
    {
      "cell_type": "markdown",
      "metadata": {
        "id": "7Rcn6pvffj_p"
      },
      "source": [
        "### Initialisation d'un Répertoire Git"
      ]
    },
    {
      "cell_type": "code",
      "execution_count": 26,
      "metadata": {
        "id": "ADhmxL6Efj_p",
        "outputId": "375ddc90-ec65-4cdd-956f-c180695f6856",
        "colab": {
          "base_uri": "https://localhost:8080/"
        }
      },
      "outputs": [
        {
          "output_type": "stream",
          "name": "stdout",
          "text": [
            "/bin/bash: line 1: cd: /Users/Fatima_Almeida/Desktop/Emploi_du_temps: No such file or directory\n",
            "\u001b[33mhint: Using 'master' as the name for the initial branch. This default branch name\u001b[m\n",
            "\u001b[33mhint: is subject to change. To configure the initial branch name to use in all\u001b[m\n",
            "\u001b[33mhint: of your new repositories, which will suppress this warning, call:\u001b[m\n",
            "\u001b[33mhint: \u001b[m\n",
            "\u001b[33mhint: \tgit config --global init.defaultBranch <name>\u001b[m\n",
            "\u001b[33mhint: \u001b[m\n",
            "\u001b[33mhint: Names commonly chosen instead of 'master' are 'main', 'trunk' and\u001b[m\n",
            "\u001b[33mhint: 'development'. The just-created branch can be renamed via this command:\u001b[m\n",
            "\u001b[33mhint: \u001b[m\n",
            "\u001b[33mhint: \tgit branch -m <name>\u001b[m\n",
            "Initialized empty Git repository in /content/.git/\n"
          ]
        }
      ],
      "source": [
        "# Ouvrez votre terminal et naviguez vers le répertoire de votre projet\n",
        "!cd /Users/Fatima_Almeida/Desktop/Emploi_du_temps\n",
        "\n",
        "# Initialisez un nouveau référentiel Git dans le répertoire\n",
        "!git init"
      ]
    },
    {
      "cell_type": "markdown",
      "metadata": {
        "id": "ub7gYq7_fj_p"
      },
      "source": [
        "### Ajout de fichiers au suivi de Git"
      ]
    },
    {
      "cell_type": "code",
      "execution_count": 27,
      "metadata": {
        "id": "CXRnV_Hdfj_q",
        "outputId": "b5c46e50-d8fc-4185-d2f2-c7f293fe8bd7",
        "colab": {
          "base_uri": "https://localhost:8080/",
          "height": 130
        }
      },
      "outputs": [
        {
          "output_type": "error",
          "ename": "SyntaxError",
          "evalue": "invalid syntax (<ipython-input-27-9f214eb84a7c>, line 2)",
          "traceback": [
            "\u001b[0;36m  File \u001b[0;32m\"<ipython-input-27-9f214eb84a7c>\"\u001b[0;36m, line \u001b[0;32m2\u001b[0m\n\u001b[0;31m    touch fichier1.py fichier2.txt\u001b[0m\n\u001b[0m          ^\u001b[0m\n\u001b[0;31mSyntaxError\u001b[0m\u001b[0;31m:\u001b[0m invalid syntax\n"
          ]
        }
      ],
      "source": [
        "# Créez quelques fichiers dans votre projet\n",
        "touch fichier1.py fichier2.txt\n",
        "\n",
        "# Ajoutez les fichiers à l'index (zone de préparation)\n",
        "git add fichier1.py fichier2.txt\n",
        "\n",
        "# Validez les changements en créant un commit\n",
        "git commit -m \"Premier commit, ajout de fichier1.py et fichier2.txt\""
      ]
    },
    {
      "cell_type": "markdown",
      "metadata": {
        "id": "oHalroRAfj_q"
      },
      "source": [
        "### Consultation de l'histoire du projet"
      ]
    },
    {
      "cell_type": "code",
      "execution_count": null,
      "metadata": {
        "id": "VT0A0bPefj_q"
      },
      "outputs": [],
      "source": [
        "# Affichez l'historique des commits\n",
        "git log\n"
      ]
    },
    {
      "cell_type": "markdown",
      "metadata": {
        "id": "5cZztIsSfj_q"
      },
      "source": [
        "### Modification de fichier et création de Nouveaux commits"
      ]
    },
    {
      "cell_type": "code",
      "execution_count": null,
      "metadata": {
        "id": "mP6Muxp-fj_q"
      },
      "outputs": [],
      "source": [
        "# Modifiez fichier1.py et ajoutez un nouveau fichier fichier3.py\n",
        "echo \"print('Hello, Git!')\" > fichier1.py\n",
        "touch fichier3.py\n",
        "\n",
        "# Ajoutez les modifications à l'index\n",
        "git add fichier1.py fichier3.py\n",
        "\n",
        "# Validez les changements avec un nouveau commit\n",
        "git commit -m \"Modification de fichier1.py et ajout de fichier3.py\"\n"
      ]
    },
    {
      "cell_type": "markdown",
      "metadata": {
        "id": "GEjixesLfj_q"
      },
      "source": [
        "### Branches et fusion (merge)"
      ]
    },
    {
      "cell_type": "code",
      "execution_count": null,
      "metadata": {
        "id": "K-q1mm1Mfj_q"
      },
      "outputs": [],
      "source": [
        "# Créez une nouvelle branche\n",
        "git branch nouvelle_fonctionnalite\n",
        "\n",
        "# Changez de branche\n",
        "git checkout nouvelle_fonctionnalite\n",
        "\n",
        "# Effectuez des modifications et validez les changements\n",
        "echo \"print('Nouvelle fonctionnalité ajoutée')\" > nouvelle_fonctionnalite.py\n",
        "git add nouvelle_fonctionnalite.py\n",
        "git commit -m \"Ajout de la nouvelle fonctionnalité\"\n",
        "\n",
        "# Revenez à la branche principale (master)\n",
        "git checkout master\n",
        "\n",
        "# Fusionnez la nouvelle fonctionnalité dans la branche principale\n",
        "git merge nouvelle_fonctionnalite\n"
      ]
    },
    {
      "cell_type": "markdown",
      "metadata": {
        "id": "vEnplBetfj_q"
      },
      "source": [
        "Il existe de nombreuses autres fonctionnalités Git à explorer, mais ces concepts de base vous donneront une base solide pour travailler avec le contrôle des versions dans vos projets Python"
      ]
    },
    {
      "cell_type": "markdown",
      "metadata": {
        "id": "RDl-Ya6xcu_y"
      },
      "source": [
        "## Assertion"
      ]
    },
    {
      "cell_type": "markdown",
      "metadata": {
        "id": "ZK6GqNU8fj_q"
      },
      "source": [
        "Les assertions en Python sont utilisée pour vérifier si une condition spécifiée est vraie. Si l'assertion est vraie, le programme continue normalement. Sinon, une exception `AssertionError`est levée avec un message d'eurreur facultatif."
      ]
    },
    {
      "cell_type": "code",
      "execution_count": 30,
      "metadata": {
        "id": "W9AjaNVIfj_q",
        "outputId": "0753bc7d-01e1-461b-8491-1d74a78e0072",
        "colab": {
          "base_uri": "https://localhost:8080/"
        }
      },
      "outputs": [
        {
          "output_type": "stream",
          "name": "stdout",
          "text": [
            "La condition est vraie, le programme continue.\n"
          ]
        }
      ],
      "source": [
        "# 'a' est égale à 5. Si la condition est fausse, une exception \"AssertionErreur\" est affichée avec le message spécifié.\n",
        "a = 5\n",
        "assert a == 5, \"La valeur de 'a' devrait être 5\"\n",
        "print(\"La condition est vraie, le programme continue.\")"
      ]
    },
    {
      "cell_type": "markdown",
      "metadata": {
        "id": "D4GAEuMQfj_q"
      },
      "source": [
        "Les assertions sont aussi possibles avec les fonctions"
      ]
    },
    {
      "cell_type": "code",
      "execution_count": 33,
      "metadata": {
        "id": "MshLD8Eafj_q",
        "outputId": "95dd8bdc-1cf5-49fc-d6cc-36995d489441",
        "colab": {
          "base_uri": "https://localhost:8080/"
        }
      },
      "outputs": [
        {
          "output_type": "stream",
          "name": "stdout",
          "text": [
            "Le résultat de la division est : 5.0\n"
          ]
        }
      ],
      "source": [
        "# Assertion vérifie si le diviseur ('b') n'est pas égal à zéro avant d'effectuer la division.\n",
        "# Si 'b' est zéro, une exception \"AssertioError\" est affichée.\n",
        "\n",
        "def diviser(a, b):\n",
        "    assert b != 0, \"Division par zéro\"\n",
        "    return a / b\n",
        "\n",
        "resultat = diviser(10, 2)\n",
        "print(\"Le résultat de la division est :\", resultat)"
      ]
    },
    {
      "cell_type": "markdown",
      "metadata": {
        "id": "yixAvZ3Ofj_q"
      },
      "source": [
        " Les assertions sont utilisées pendant le développement et les tests, mais elles peuvent être désactivées en mode production pour améliorer les performances."
      ]
    },
    {
      "cell_type": "code",
      "execution_count": 34,
      "metadata": {
        "id": "zaRds3Xcfj_q"
      },
      "outputs": [],
      "source": [
        "# Le module __debug__ est utilisé pour vérifier si les assertions sont activées.\n",
        "# En mode production (lorsque le script est exécuté avec l'option -O), les assertions sont désactivées.\n",
        "def fonction_critique(x):\n",
        "    assert x > 0, \"La valeur de 'x' doit être positive\"\n",
        "    # Le reste du code critique ici\n",
        "\n",
        "# Désactiver les assertions en mode production\n",
        "# python -O script.py\n"
      ]
    },
    {
      "cell_type": "markdown",
      "metadata": {
        "id": "axC1qIBbfj_q"
      },
      "source": [
        "Les assertions en Python sont un moyen puissant de vérifier les conditions et de s'assurer que votre code fonctionne comme prévu. Cependant, elles ne devraient être utilisées que pour des conditions qui ne devraient jamais se produire normalement."
      ]
    },
    {
      "cell_type": "markdown",
      "metadata": {
        "id": "RnYUY0e1cu_z"
      },
      "source": [
        "## Unit Testing"
      ]
    },
    {
      "cell_type": "markdown",
      "metadata": {
        "id": "fg9BNDxtfj_q"
      },
      "source": [
        "Les tests unitaires sont un moyen essentiel de s'assurer que chaque composant individuel d'un programme fonctionne correctement. En Python, le module `unittest` offre un cadre robuste pour écrire et exécuter des tests unitaires."
      ]
    },
    {
      "cell_type": "markdown",
      "metadata": {
        "id": "akCrhDkMfj_q"
      },
      "source": [
        "Création d'un Fichier à Tester\n",
        "Créez un fichier Python calculatrice.py contenant des fonctions simples à tester."
      ]
    },
    {
      "cell_type": "code",
      "execution_count": 44,
      "metadata": {
        "id": "9SBxKlo8fj_t"
      },
      "outputs": [],
      "source": [
        "#calculatrice.py\n",
        "\n",
        "def addition(a, b):\n",
        "    return a + b\n",
        "\n",
        "def soustraction(a, b):\n",
        "    return a - b\n",
        "\n",
        "def multiplication(a, b):\n",
        "    return a * b\n",
        "\n",
        "def division(a, b):\n",
        "    if b == 0:\n",
        "        raise ValueError(\"Division par zéro\")\n",
        "    return a / b\n"
      ]
    },
    {
      "cell_type": "markdown",
      "metadata": {
        "id": "PhoZ4nI_fj_t"
      },
      "source": [
        "Écriture des Tests Unitaires\n",
        "Créez un fichier de tests test_calculatrice.py pour tester les fonctions de la calculatrice."
      ]
    },
    {
      "cell_type": "code",
      "execution_count": 45,
      "metadata": {
        "id": "xlXa3jejfj_t",
        "outputId": "6432f8f8-abd1-4936-de67-88237dcdef1e",
        "colab": {
          "base_uri": "https://localhost:8080/",
          "height": 439
        }
      },
      "outputs": [
        {
          "output_type": "error",
          "ename": "ModuleNotFoundError",
          "evalue": "No module named 'calculatrice'",
          "traceback": [
            "\u001b[0;31m---------------------------------------------------------------------------\u001b[0m",
            "\u001b[0;31mModuleNotFoundError\u001b[0m                       Traceback (most recent call last)",
            "\u001b[0;32m<ipython-input-45-b3e37f1fc8bc>\u001b[0m in \u001b[0;36m<cell line: 3>\u001b[0;34m()\u001b[0m\n\u001b[1;32m      1\u001b[0m \u001b[0;31m#test_calculatrice.py\u001b[0m\u001b[0;34m\u001b[0m\u001b[0;34m\u001b[0m\u001b[0m\n\u001b[1;32m      2\u001b[0m \u001b[0;32mimport\u001b[0m \u001b[0munittest\u001b[0m\u001b[0;34m\u001b[0m\u001b[0;34m\u001b[0m\u001b[0m\n\u001b[0;32m----> 3\u001b[0;31m \u001b[0;32mfrom\u001b[0m \u001b[0mcalculatrice\u001b[0m \u001b[0;32mimport\u001b[0m \u001b[0maddition\u001b[0m\u001b[0;34m,\u001b[0m \u001b[0msoustraction\u001b[0m\u001b[0;34m,\u001b[0m \u001b[0mmultiplication\u001b[0m\u001b[0;34m,\u001b[0m \u001b[0mdivision\u001b[0m\u001b[0;34m\u001b[0m\u001b[0;34m\u001b[0m\u001b[0m\n\u001b[0m\u001b[1;32m      4\u001b[0m \u001b[0;34m\u001b[0m\u001b[0m\n\u001b[1;32m      5\u001b[0m \u001b[0;31m# Chaque méthode dans cette classe qui commence par test_ sera considérée comme un test unitaire\u001b[0m\u001b[0;34m\u001b[0m\u001b[0;34m\u001b[0m\u001b[0m\n",
            "\u001b[0;31mModuleNotFoundError\u001b[0m: No module named 'calculatrice'",
            "",
            "\u001b[0;31m---------------------------------------------------------------------------\u001b[0;32m\nNOTE: If your import is failing due to a missing package, you can\nmanually install dependencies using either !pip or !apt.\n\nTo view examples of installing some common dependencies, click the\n\"Open Examples\" button below.\n\u001b[0;31m---------------------------------------------------------------------------\u001b[0m\n"
          ],
          "errorDetails": {
            "actions": [
              {
                "action": "open_url",
                "actionText": "Open Examples",
                "url": "/notebooks/snippets/importing_libraries.ipynb"
              }
            ]
          }
        }
      ],
      "source": [
        "#test_calculatrice.py\n",
        "import unittest\n",
        "from calculatrice import addition, soustraction, multiplication, division\n",
        "\n",
        "# Chaque méthode dans cette classe qui commence par test_ sera considérée comme un test unitaire\n",
        "# Nous utilisons les méthodes de l'objet self telles que assertEqual,\n",
        "# assertRaises, etc., pour effectuer les vérifications.\n",
        "class TestCalculatrice(unittest.TestCase):\n",
        "\n",
        "    def test_addition(self):\n",
        "        self.assertEqual(addition(3, 4), 7)\n",
        "        self.assertEqual(addition(-1, 1), 0)\n",
        "        self.assertEqual(addition(0, 0), 0)\n",
        "\n",
        "    def test_soustraction(self):\n",
        "        self.assertEqual(soustraction(5, 2), 3)\n",
        "        self.assertEqual(soustraction(0, 0), 0)\n",
        "        self.assertEqual(soustraction(-1, -1), 0)\n",
        "\n",
        "    def test_multiplication(self):\n",
        "        self.assertEqual(multiplication(2, 3), 6)\n",
        "        self.assertEqual(multiplication(0, 5), 0)\n",
        "        self.assertEqual(multiplication(-2, -2), 4)\n",
        "\n",
        "    def test_division(self):\n",
        "        self.assertEqual(division(8, 4), 2)\n",
        "        self.assertEqual(division(5, 2), 2.5)\n",
        "        with self.assertRaises(ValueError):\n",
        "            division(10, 0)\n",
        "\n",
        "if __name__ == '__main__':\n",
        "    unittest.main()\n"
      ]
    },
    {
      "cell_type": "code",
      "source": [
        "from google.colab import drive\n",
        "drive.mount('/content/drive')"
      ],
      "metadata": {
        "id": "v_RuFUeY5JVK",
        "outputId": "baad853b-0361-4964-9f80-4d2805165868",
        "colab": {
          "base_uri": "https://localhost:8080/",
          "height": 357
        }
      },
      "execution_count": 47,
      "outputs": [
        {
          "output_type": "error",
          "ename": "MessageError",
          "evalue": "Error: credential propagation was unsuccessful",
          "traceback": [
            "\u001b[0;31m---------------------------------------------------------------------------\u001b[0m",
            "\u001b[0;31mMessageError\u001b[0m                              Traceback (most recent call last)",
            "\u001b[0;32m<ipython-input-47-d5df0069828e>\u001b[0m in \u001b[0;36m<cell line: 2>\u001b[0;34m()\u001b[0m\n\u001b[1;32m      1\u001b[0m \u001b[0;32mfrom\u001b[0m \u001b[0mgoogle\u001b[0m\u001b[0;34m.\u001b[0m\u001b[0mcolab\u001b[0m \u001b[0;32mimport\u001b[0m \u001b[0mdrive\u001b[0m\u001b[0;34m\u001b[0m\u001b[0;34m\u001b[0m\u001b[0m\n\u001b[0;32m----> 2\u001b[0;31m \u001b[0mdrive\u001b[0m\u001b[0;34m.\u001b[0m\u001b[0mmount\u001b[0m\u001b[0;34m(\u001b[0m\u001b[0;34m'/content/drive'\u001b[0m\u001b[0;34m)\u001b[0m\u001b[0;34m\u001b[0m\u001b[0;34m\u001b[0m\u001b[0m\n\u001b[0m",
            "\u001b[0;32m/usr/local/lib/python3.10/dist-packages/google/colab/drive.py\u001b[0m in \u001b[0;36mmount\u001b[0;34m(mountpoint, force_remount, timeout_ms, readonly)\u001b[0m\n\u001b[1;32m     98\u001b[0m \u001b[0;32mdef\u001b[0m \u001b[0mmount\u001b[0m\u001b[0;34m(\u001b[0m\u001b[0mmountpoint\u001b[0m\u001b[0;34m,\u001b[0m \u001b[0mforce_remount\u001b[0m\u001b[0;34m=\u001b[0m\u001b[0;32mFalse\u001b[0m\u001b[0;34m,\u001b[0m \u001b[0mtimeout_ms\u001b[0m\u001b[0;34m=\u001b[0m\u001b[0;36m120000\u001b[0m\u001b[0;34m,\u001b[0m \u001b[0mreadonly\u001b[0m\u001b[0;34m=\u001b[0m\u001b[0;32mFalse\u001b[0m\u001b[0;34m)\u001b[0m\u001b[0;34m:\u001b[0m\u001b[0;34m\u001b[0m\u001b[0;34m\u001b[0m\u001b[0m\n\u001b[1;32m     99\u001b[0m   \u001b[0;34m\"\"\"Mount your Google Drive at the specified mountpoint path.\"\"\"\u001b[0m\u001b[0;34m\u001b[0m\u001b[0;34m\u001b[0m\u001b[0m\n\u001b[0;32m--> 100\u001b[0;31m   return _mount(\n\u001b[0m\u001b[1;32m    101\u001b[0m       \u001b[0mmountpoint\u001b[0m\u001b[0;34m,\u001b[0m\u001b[0;34m\u001b[0m\u001b[0;34m\u001b[0m\u001b[0m\n\u001b[1;32m    102\u001b[0m       \u001b[0mforce_remount\u001b[0m\u001b[0;34m=\u001b[0m\u001b[0mforce_remount\u001b[0m\u001b[0;34m,\u001b[0m\u001b[0;34m\u001b[0m\u001b[0;34m\u001b[0m\u001b[0m\n",
            "\u001b[0;32m/usr/local/lib/python3.10/dist-packages/google/colab/drive.py\u001b[0m in \u001b[0;36m_mount\u001b[0;34m(mountpoint, force_remount, timeout_ms, ephemeral, readonly)\u001b[0m\n\u001b[1;32m    135\u001b[0m   )\n\u001b[1;32m    136\u001b[0m   \u001b[0;32mif\u001b[0m \u001b[0mephemeral\u001b[0m\u001b[0;34m:\u001b[0m\u001b[0;34m\u001b[0m\u001b[0;34m\u001b[0m\u001b[0m\n\u001b[0;32m--> 137\u001b[0;31m     _message.blocking_request(\n\u001b[0m\u001b[1;32m    138\u001b[0m         \u001b[0;34m'request_auth'\u001b[0m\u001b[0;34m,\u001b[0m\u001b[0;34m\u001b[0m\u001b[0;34m\u001b[0m\u001b[0m\n\u001b[1;32m    139\u001b[0m         \u001b[0mrequest\u001b[0m\u001b[0;34m=\u001b[0m\u001b[0;34m{\u001b[0m\u001b[0;34m'authType'\u001b[0m\u001b[0;34m:\u001b[0m \u001b[0;34m'dfs_ephemeral'\u001b[0m\u001b[0;34m}\u001b[0m\u001b[0;34m,\u001b[0m\u001b[0;34m\u001b[0m\u001b[0;34m\u001b[0m\u001b[0m\n",
            "\u001b[0;32m/usr/local/lib/python3.10/dist-packages/google/colab/_message.py\u001b[0m in \u001b[0;36mblocking_request\u001b[0;34m(request_type, request, timeout_sec, parent)\u001b[0m\n\u001b[1;32m    174\u001b[0m       \u001b[0mrequest_type\u001b[0m\u001b[0;34m,\u001b[0m \u001b[0mrequest\u001b[0m\u001b[0;34m,\u001b[0m \u001b[0mparent\u001b[0m\u001b[0;34m=\u001b[0m\u001b[0mparent\u001b[0m\u001b[0;34m,\u001b[0m \u001b[0mexpect_reply\u001b[0m\u001b[0;34m=\u001b[0m\u001b[0;32mTrue\u001b[0m\u001b[0;34m\u001b[0m\u001b[0;34m\u001b[0m\u001b[0m\n\u001b[1;32m    175\u001b[0m   )\n\u001b[0;32m--> 176\u001b[0;31m   \u001b[0;32mreturn\u001b[0m \u001b[0mread_reply_from_input\u001b[0m\u001b[0;34m(\u001b[0m\u001b[0mrequest_id\u001b[0m\u001b[0;34m,\u001b[0m \u001b[0mtimeout_sec\u001b[0m\u001b[0;34m)\u001b[0m\u001b[0;34m\u001b[0m\u001b[0;34m\u001b[0m\u001b[0m\n\u001b[0m",
            "\u001b[0;32m/usr/local/lib/python3.10/dist-packages/google/colab/_message.py\u001b[0m in \u001b[0;36mread_reply_from_input\u001b[0;34m(message_id, timeout_sec)\u001b[0m\n\u001b[1;32m    101\u001b[0m     ):\n\u001b[1;32m    102\u001b[0m       \u001b[0;32mif\u001b[0m \u001b[0;34m'error'\u001b[0m \u001b[0;32min\u001b[0m \u001b[0mreply\u001b[0m\u001b[0;34m:\u001b[0m\u001b[0;34m\u001b[0m\u001b[0;34m\u001b[0m\u001b[0m\n\u001b[0;32m--> 103\u001b[0;31m         \u001b[0;32mraise\u001b[0m \u001b[0mMessageError\u001b[0m\u001b[0;34m(\u001b[0m\u001b[0mreply\u001b[0m\u001b[0;34m[\u001b[0m\u001b[0;34m'error'\u001b[0m\u001b[0;34m]\u001b[0m\u001b[0;34m)\u001b[0m\u001b[0;34m\u001b[0m\u001b[0;34m\u001b[0m\u001b[0m\n\u001b[0m\u001b[1;32m    104\u001b[0m       \u001b[0;32mreturn\u001b[0m \u001b[0mreply\u001b[0m\u001b[0;34m.\u001b[0m\u001b[0mget\u001b[0m\u001b[0;34m(\u001b[0m\u001b[0;34m'data'\u001b[0m\u001b[0;34m,\u001b[0m \u001b[0;32mNone\u001b[0m\u001b[0;34m)\u001b[0m\u001b[0;34m\u001b[0m\u001b[0;34m\u001b[0m\u001b[0m\n\u001b[1;32m    105\u001b[0m \u001b[0;34m\u001b[0m\u001b[0m\n",
            "\u001b[0;31mMessageError\u001b[0m: Error: credential propagation was unsuccessful"
          ]
        }
      ]
    },
    {
      "cell_type": "markdown",
      "metadata": {
        "id": "ibzTFXKnfj_t"
      },
      "source": [
        "Assertion avec Tests unitaires pour vérifier si le code se comporte comme prévu."
      ]
    },
    {
      "cell_type": "code",
      "execution_count": 50,
      "metadata": {
        "id": "SA5_1uCKfj_t",
        "outputId": "18a8c078-18fa-4bf7-eef0-f6f41ad9b771",
        "colab": {
          "base_uri": "https://localhost:8080/"
        }
      },
      "outputs": [
        {
          "output_type": "stream",
          "name": "stdout",
          "text": [
            "Test réussi : addition(3, 4) est égal à 7\n"
          ]
        }
      ],
      "source": [
        "# assertion est utilisée comme un test unitaire pour vérifier si la fonction addition fonctionne correctement.\n",
        "def addition(a, b):\n",
        "    return a + b\n",
        "\n",
        "# Test unitaire\n",
        "assert addition(3, 4) == 7, \"Test échoué : addition(3, 4) devrait être égal à 7\"\n",
        "print(\"Test réussi : addition(3, 4) est égal à 7\")\n"
      ]
    },
    {
      "cell_type": "markdown",
      "metadata": {
        "id": "A87qYiSCfj_t"
      },
      "source": [
        "Exécution des Tests\n",
        "Pour exécuter les tests, exécutez le fichier test_calculatrice.py :"
      ]
    },
    {
      "cell_type": "code",
      "execution_count": 52,
      "metadata": {
        "id": "LYcMEJMYfj_t",
        "outputId": "4f9a8451-37d2-4805-c445-2a49e87ee40f",
        "colab": {
          "base_uri": "https://localhost:8080/",
          "height": 130
        }
      },
      "outputs": [
        {
          "output_type": "error",
          "ename": "SyntaxError",
          "evalue": "invalid syntax (<ipython-input-52-246c5fa83c02>, line 1)",
          "traceback": [
            "\u001b[0;36m  File \u001b[0;32m\"<ipython-input-52-246c5fa83c02>\"\u001b[0;36m, line \u001b[0;32m1\u001b[0m\n\u001b[0;31m    python test_calculatrice.py\u001b[0m\n\u001b[0m           ^\u001b[0m\n\u001b[0;31mSyntaxError\u001b[0m\u001b[0;31m:\u001b[0m invalid syntax\n"
          ]
        }
      ],
      "source": [
        "python test_calculatrice.py"
      ]
    },
    {
      "cell_type": "markdown",
      "metadata": {
        "id": "goEjmiBFfj_t"
      },
      "source": [
        "Vous devriez voir une sortie indiquant si les tests ont réussi ou échoué. Si tout est correct, vous verrez quelque chose comme :"
      ]
    },
    {
      "cell_type": "code",
      "execution_count": null,
      "metadata": {
        "id": "JUxL2qHsfj_t"
      },
      "outputs": [],
      "source": [
        ".....\n",
        "----------------------------------------------------------------------\n",
        "Ran 5 tests in 0.001s\n",
        "\n",
        "OK"
      ]
    },
    {
      "cell_type": "markdown",
      "metadata": {
        "id": "7BN-CZ7xfj_t"
      },
      "source": [
        "Les tests unitaires avec unittest offrent un moyen efficace de garantir que vos fonctions et classes fonctionnent correctement. Il est recommandé d'écrire des tests unitaires pour chaque composant significatif de votre code afin de faciliter la détection précoce des erreurs et d'améliorer la qualité de votre logiciel."
      ]
    },
    {
      "cell_type": "markdown",
      "metadata": {
        "id": "m-pBZ93Tfj_t"
      },
      "source": [
        "## Exception"
      ]
    },
    {
      "cell_type": "markdown",
      "metadata": {
        "id": "YHuu8Mtufj_t"
      },
      "source": [
        "Les exceptions en Python sont des événements qui se produisent pendant l'exécution d'un programme et qui perturbent le flux normal d'instructions. Les exceptions sont généralement utilisées pour gérer des erreurs et des situations exceptionnelles."
      ]
    },
    {
      "cell_type": "markdown",
      "metadata": {
        "id": "rE7Qnu-dfj_t"
      },
      "source": [
        "Structure d'une Exception\n",
        "\n",
        "Les exceptions sont généralement constituées d'un type d'exception et éventuellement d'un message d'erreur. Voici comment cela ressemble :"
      ]
    },
    {
      "cell_type": "code",
      "execution_count": 54,
      "metadata": {
        "id": "qsPmgPF_fj_u",
        "outputId": "31c43d7d-64ca-4891-dc11-6e71b2717579",
        "colab": {
          "base_uri": "https://localhost:8080/"
        }
      },
      "outputs": [
        {
          "output_type": "stream",
          "name": "stdout",
          "text": [
            "Une exception de type ValueError s'est produite : Ceci est un message d'erreur\n",
            "Le bloc finally est toujours exécuté\n"
          ]
        }
      ],
      "source": [
        "try:\n",
        "    # Bloc de code où une exception pourrait se produire\n",
        "    # ...\n",
        "    raise ValueError(\"Ceci est un message d'erreur\")\n",
        "except ValueError as e:\n",
        "    # Gestion de l'exception\n",
        "    print(f\"Une exception de type {type(e).__name__} s'est produite : {e}\")\n",
        "finally:\n",
        "    # Bloc exécuté qu'il y ait eu ou non une exception\n",
        "    print(\"Le bloc finally est toujours exécuté\")\n"
      ]
    },
    {
      "cell_type": "markdown",
      "metadata": {
        "id": "J7u9ENj0fj_u"
      },
      "source": [
        "Types Courants d'Exceptions\n",
        "ValueError: Erreur de valeur.\n",
        "TypeError: Erreur de type.\n",
        "ZeroDivisionError: Tentative de division par zéro.\n",
        "FileNotFoundError: Fichier non trouvé.\n",
        "IndexError: Index hors de la plage valide."
      ]
    },
    {
      "cell_type": "markdown",
      "metadata": {
        "id": "p8tpB_WLfj_u"
      },
      "source": [
        "Utilisation du Bloc `try...except`\n"
      ]
    },
    {
      "cell_type": "code",
      "execution_count": 56,
      "metadata": {
        "id": "n3xByp1bfj_u",
        "outputId": "7c6e3456-8947-4ac4-c4f9-5f9713dc8c75",
        "colab": {
          "base_uri": "https://localhost:8080/"
        }
      },
      "outputs": [
        {
          "output_type": "stream",
          "name": "stdout",
          "text": [
            "Entrez un nombre : 3\n",
            "Le résultat est : 3.3333333333333335\n",
            "Ce bloc est toujours exécuté, qu'il y ait eu une exception ou non.\n"
          ]
        }
      ],
      "source": [
        "# Exemple 1\n",
        "try:\n",
        "    nombre = int(input(\"Entrez un nombre : \"))\n",
        "    resultat = 10 / nombre\n",
        "    print(\"Le résultat est :\", resultat)\n",
        "except ValueError:\n",
        "    print(\"Erreur : Vous devez entrer un nombre entier.\")\n",
        "except ZeroDivisionError:\n",
        "    print(\"Erreur : Division par zéro.\")\n",
        "finally:\n",
        "    print(\"Ce bloc est toujours exécuté, qu'il y ait eu une exception ou non.\")\n"
      ]
    },
    {
      "cell_type": "markdown",
      "metadata": {
        "id": "0LmyRZy9fj_u"
      },
      "source": [
        "Utilisation du Bloc `try...except...else`"
      ]
    },
    {
      "cell_type": "code",
      "execution_count": 57,
      "metadata": {
        "id": "oxGRJM70fj_u",
        "outputId": "778dc266-73ba-428b-c659-1d10f4ad4bb1",
        "colab": {
          "base_uri": "https://localhost:8080/"
        }
      },
      "outputs": [
        {
          "output_type": "stream",
          "name": "stdout",
          "text": [
            "Erreur : Le fichier n'a pas été trouvé.\n"
          ]
        }
      ],
      "source": [
        "# Exemple 2\n",
        "try:\n",
        "    fichier = open(\"exemple.txt\", \"r\")\n",
        "except FileNotFoundError:\n",
        "    print(\"Erreur : Le fichier n'a pas été trouvé.\")\n",
        "else:\n",
        "    contenu = fichier.read()\n",
        "    print(\"Contenu du fichier :\", contenu)\n",
        "    fichier.close()\n"
      ]
    },
    {
      "cell_type": "markdown",
      "metadata": {
        "id": "zAwwHShofj_u"
      },
      "source": [
        "Utilisation du Bloc `try...except...else...finally`"
      ]
    },
    {
      "cell_type": "code",
      "execution_count": 58,
      "metadata": {
        "id": "qkm_Z4YWfj_u",
        "outputId": "ccf41d61-a293-4a3a-c5b3-babf786e3356",
        "colab": {
          "base_uri": "https://localhost:8080/"
        }
      },
      "outputs": [
        {
          "output_type": "stream",
          "name": "stdout",
          "text": [
            "Erreur : Le fichier n'a pas été trouvé.\n",
            "Ce bloc est toujours exécuté, qu'il y ait eu une exception ou non.\n"
          ]
        }
      ],
      "source": [
        "# Exemple 3\n",
        "try:\n",
        "    fichier = open(\"exemple.txt\", \"r\")\n",
        "except FileNotFoundError:\n",
        "    print(\"Erreur : Le fichier n'a pas été trouvé.\")\n",
        "else:\n",
        "    contenu = fichier.read()\n",
        "    print(\"Contenu du fichier :\", contenu)\n",
        "    fichier.close()\n",
        "finally:\n",
        "    print(\"Ce bloc est toujours exécuté, qu'il y ait eu une exception ou non.\")\n"
      ]
    },
    {
      "cell_type": "markdown",
      "metadata": {
        "id": "4e0isVvnfj_u"
      },
      "source": [
        "Utilisation de la Clause raise pour Lever une Exception"
      ]
    },
    {
      "cell_type": "code",
      "execution_count": 59,
      "metadata": {
        "id": "1yV_HaHcfj_u",
        "outputId": "a14d9afb-621a-48ec-a279-9c6c2ed86b13",
        "colab": {
          "base_uri": "https://localhost:8080/"
        }
      },
      "outputs": [
        {
          "output_type": "stream",
          "name": "stdout",
          "text": [
            "Une exception de type ValueError s'est produite : Erreur : Division par zéro.\n"
          ]
        }
      ],
      "source": [
        "# Exemple 4\n",
        "def diviser(a, b):\n",
        "    if b == 0:\n",
        "        raise ValueError(\"Erreur : Division par zéro.\")\n",
        "    return a / b\n",
        "\n",
        "try:\n",
        "    resultat = diviser(10, 0)\n",
        "except ValueError as e:\n",
        "    print(f\"Une exception de type {type(e).__name__} s'est produite : {e}\")"
      ]
    },
    {
      "cell_type": "markdown",
      "metadata": {
        "id": "4mze5IQvfj_u"
      },
      "source": [
        "Les exceptions en Python offrent un moyen de gérer les erreurs et les situations exceptionnelles de manière élégante. Il est important de les utiliser pour rendre votre code robuste et faciliter la détection et la gestion des erreurs."
      ]
    },
    {
      "cell_type": "markdown",
      "metadata": {
        "id": "3rdonewffj_u"
      },
      "source": [
        "## Débogage"
      ]
    },
    {
      "cell_type": "markdown",
      "metadata": {
        "id": "QiN7yG_Kfj_u"
      },
      "source": [
        "Le débogage est un processus essentiel lors du développement de logiciels. En Python, vous pouvez utiliser des outils intégrés tels que le module `pdb` pour déboguer votre code et comprendre ce qui se passe lors de l'exécution."
      ]
    },
    {
      "cell_type": "markdown",
      "metadata": {
        "id": "UJ2zK8z3fj_u"
      },
      "source": [
        "Utilisation du Module pdb\n",
        "\n",
        "Le module `pdb` est un débogueur intégré à Python qui permet d'arrêter l'exécution du programme à un point donné et d'inspecter l'état du programme à ce moment-là."
      ]
    },
    {
      "cell_type": "markdown",
      "metadata": {
        "id": "MBDRGyxhfj_u"
      },
      "source": [
        "### Activation du Débogueur\n"
      ]
    },
    {
      "cell_type": "code",
      "execution_count": null,
      "metadata": {
        "id": "8qZ42hWtfj_u"
      },
      "outputs": [],
      "source": [
        "# Le débogueur sera activé à la ligne contenant pdb.set_trace().\n",
        "# Vous pouvez utiliser des commandes telles que n (next), c (continue),\n",
        "# p (print) pour naviguer et inspecter les variables.\n",
        "\n",
        "import pdb\n",
        "\n",
        "def exemple():\n",
        "    x = 10\n",
        "    y = 5\n",
        "    z = x + y\n",
        "    pdb.set_trace()  # Activation du débogueur\n",
        "    print(\"Le résultat est :\", z)\n",
        "\n",
        "exemple()"
      ]
    },
    {
      "cell_type": "markdown",
      "metadata": {
        "id": "DW0X6M5Bfj_u"
      },
      "source": [
        "### Exécution avec le Mode Intéractif"
      ]
    },
    {
      "cell_type": "markdown",
      "metadata": {
        "id": "i2txwdpDfj_u"
      },
      "source": [
        "Lorsque le débogueur est activé, vous entrez dans un mode intéractif où vous pouvez exécuter des commandes. Par exemple :\n",
        "\n",
        "- `n` : Exécuter la ligne suivante.\n",
        "- `c` : Continuer l'exécution jusqu'à la fin ou jusqu'à la prochaine pause.\n",
        "- `p` variable : Afficher la valeur d'une variable.\n",
        "- `q` : Quitter le débogueur.\n",
        "\n",
        "Utilisation de breakpoint (Python 3.7+)"
      ]
    },
    {
      "cell_type": "markdown",
      "metadata": {
        "id": "NEydVQ_2fj_u"
      },
      "source": [
        "\n",
        "À partir de Python 3.7, vous pouvez utiliser la fonction breakpoint() pour activer le débogueur de manière plus concise."
      ]
    },
    {
      "cell_type": "code",
      "execution_count": null,
      "metadata": {
        "id": "9w2pSflUfj_v"
      },
      "outputs": [],
      "source": [
        "# Le code s'arrêtera automatiquement à l'endroit où breakpoint() est appelé.\n",
        "def exemple():\n",
        "    x = 10\n",
        "    y = 5\n",
        "    z = x + y\n",
        "    breakpoint()  # Activation du débogueur\n",
        "    print(\"Le résultat est :\", z)\n",
        "\n",
        "exemple()"
      ]
    },
    {
      "cell_type": "markdown",
      "metadata": {
        "id": "X3I_rsGTfj_v"
      },
      "source": [
        "Utilisation d'un Environnement de Développement Intégré (IDE)\n",
        "\n",
        "La plupart des environnements de développement intégrés (IDE) fournissent des outils de débogage visuels. Par exemple, dans Visual Studio Code, vous pouvez définir des points d'arrêt, inspecter les variables en cours d'exécution et utiliser des fonctionnalités de débogage avancées."
      ]
    },
    {
      "cell_type": "markdown",
      "metadata": {
        "id": "-XgL7Vdjfj_v"
      },
      "source": [
        "Le débogage en Python est une compétence essentielle pour identifier et résoudre les erreurs dans votre code. Que vous utilisiez le module `pdb` en mode console ou des fonctionnalités de débogage visuel dans un IDE, le débogage vous aidera à comprendre le comportement de votre programme et à corriger les problèmes."
      ]
    }
  ],
  "metadata": {
    "colab": {
      "provenance": [],
      "include_colab_link": true
    },
    "kernelspec": {
      "display_name": "JupyterBook",
      "language": "python",
      "name": "python3"
    },
    "language_info": {
      "name": "python",
      "version": "3.12.0"
    }
  },
  "nbformat": 4,
  "nbformat_minor": 0
}